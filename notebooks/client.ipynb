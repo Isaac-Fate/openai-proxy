{
 "cells": [
  {
   "cell_type": "code",
   "execution_count": 1,
   "metadata": {},
   "outputs": [],
   "source": [
    "import requests\n",
    "from dotenv import load_dotenv\n",
    "import os"
   ]
  },
  {
   "cell_type": "code",
   "execution_count": 15,
   "metadata": {},
   "outputs": [
    {
     "name": "stdout",
     "output_type": "stream",
     "text": [
      "Gin is a web framework written in Go (Golang) that is lightweight and highly performant. It provides a minimalistic API for building web applications and APIs in Go.\n",
      "\n",
      "Here is an example of a simple \"Hello World\" web server using Gin:\n",
      "\n",
      "```go\n",
      "package main\n",
      "\n",
      "import \"github.com/gin-gonic/gin\"\n",
      "\n",
      "func main() {\n",
      "    // Creates a gin router with default middleware\n",
      "    r := gin.Default()\n",
      "\n",
      "    // Defines a route handler for the GET method on the /hello path\n",
      "    r.GET(\"/hello\", func(c *gin.Context) {\n",
      "        c.JSON(200, gin.H{\n",
      "            \"message\": \"Hello World\",\n",
      "        })\n",
      "    })\n",
      "\n",
      "    // Runs the server on port 8080\n",
      "    r.Run(\":8080\")\n",
      "}\n",
      "```\n",
      "\n",
      "In this example, we import the Gin framework and create a router using `gin.Default()`. We then define a route handler for the GET method on the `/hello` path that returns a JSON response containing the message \"Hello World\". Finally, we run the server on port 8080 using `r.Run(\":8080\")`.\n",
      "\n",
      "Gin supports many features such as routing, middleware, parameter binding, error handling, and more. Here is an example of a route with a URL parameter:\n",
      "\n",
      "```go\n",
      "r.GET(\"/hello/:name\", func(c *gin.Context) {\n",
      "    name := c.Param(\"name\")\n",
      "    c.JSON(200, gin.H{\n",
      "        \"message\": \"Hello \" + name,\n",
      "    })\n",
      "})\n",
      "```\n",
      "\n",
      "In this example, the route `/hello/:name` expects a URL parameter named `name`. The value of the parameter is retrieved using `c.Param(\"name\")` and included in the JSON response.\n",
      "\n",
      "Overall, Gin is a powerful and easy-to-use web framework for building web applications and APIs in Go. It is well-suited for building high-performance and scalable web services."
     ]
    }
   ],
   "source": [
    "import json\n",
    "\n",
    "\n",
    "load_dotenv()\n",
    "\n",
    "OPENAI_API_KEY = os.getenv(\"OPENAI_API_KEY\")\n",
    "\n",
    "response = requests.post(\n",
    "    \"http://localhost:8080/v1/chat/completions\",\n",
    "    headers={\n",
    "        \"Authorization\": f\"Bearer {OPENAI_API_KEY}\",\n",
    "    },\n",
    "    json={\n",
    "        \"model\": \"gpt-3.5-turbo\",\n",
    "        \"messages\": [\n",
    "            {\n",
    "                \"role\": \"user\",\n",
    "                \"content\": \"Use golang gin web framework to build a simple echo server\",\n",
    "            },\n",
    "        ],\n",
    "        \"stream\": True,\n",
    "    },\n",
    "    stream=True,\n",
    ")\n",
    "\n",
    "for chunk in response.iter_lines():\n",
    "    if chunk:\n",
    "        chunk_content: str = chunk.decode(\"utf-8\")\n",
    "        chunk_content = chunk_content.removeprefix(\"data: \")\n",
    "\n",
    "        if chunk_content == \"[DONE]\":\n",
    "            break\n",
    "\n",
    "        json_value = json.loads(chunk_content)\n",
    "\n",
    "        try:\n",
    "            content = json_value[\"choices\"][0][\"delta\"][\"content\"]\n",
    "            print(content, end=\"\", flush=True)\n",
    "        except:\n",
    "            continue"
   ]
  },
  {
   "cell_type": "code",
   "execution_count": null,
   "metadata": {},
   "outputs": [],
   "source": []
  }
 ],
 "metadata": {
  "kernelspec": {
   "display_name": "learn",
   "language": "python",
   "name": "python3"
  },
  "language_info": {
   "codemirror_mode": {
    "name": "ipython",
    "version": 3
   },
   "file_extension": ".py",
   "mimetype": "text/x-python",
   "name": "python",
   "nbconvert_exporter": "python",
   "pygments_lexer": "ipython3",
   "version": "3.11.8"
  }
 },
 "nbformat": 4,
 "nbformat_minor": 2
}
